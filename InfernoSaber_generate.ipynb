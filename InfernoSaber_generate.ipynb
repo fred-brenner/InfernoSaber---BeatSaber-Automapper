{
  "cells": [
    {
      "cell_type": "markdown",
      "metadata": {
        "id": "2_3tBnpPT8Ut"
      },
      "source": [
        "# InfernoSaber \n",
        "\n",
        "Hi, here you can generate beat saber songs using the new automapper [InfernoSaber](https://github.com/fred-brenner/BeatSaber-Extraction)\n",
        "\n",
        "Thanks to guillefix [DeepSaber](https://github.com/oxai/deepsaber) for the notebook layout.\n",
        "\n",
        "\n",
        "**Run this every time you start the Colab session:**\n",
        "\n",
        "Run the \"Prepare dependencies\" cell\n",
        "\n",
        "**To generate each song:**\n",
        "\n",
        "Follow the instructions below to upload song and generate levels\n",
        "\n",
        "It should typically take 20 to 40 seconds depending on length of song (with GPU)."
      ]
    },
    {
      "cell_type": "code",
      "execution_count": null,
      "metadata": {
        "cellView": "form",
        "id": "8Ldp4XLCCKSH"
      },
      "outputs": [],
      "source": [
        "#@title Connect Google Drive (double click to see code)\n",
        "#@markdown This will connect colab to your Google Drive (will ask you for permission). Make sure you have more than a 1 GB free on your Google Drive\n",
        "\n",
        "#@markdown It will then create a folder to save the InfernoSaber depencies\n",
        "#@markdown or if it's already created it will use this name to find the folder\n",
        "\n",
        "\n",
        "from google.colab import drive, files\n",
        "drive.mount('/content/drive')\n",
        "import os\n",
        "from os import mkdir, path\n",
        "def cd(dir):\n",
        "  os.chdir(dir)\n",
        "infernosaber_folder_name = 'InfernoSaber'\n",
        "working_dir=!pwd\n",
        "working_dir=working_dir[0]\n",
        "if working_dir==\"/content\":\n",
        "  if not path.exists(\"drive/My Drive/\"+infernosaber_folder_name):\n",
        "    mkdir(\"drive/My Drive/\"+infernosaber_folder_name)\n",
        "  cd(\"drive/My Drive/\"+infernosaber_folder_name)\n",
        "\n",
        "#@markdown **run this cell** by pressing the play arrow on the left (or press ctrl+enter or shift+enter while having this cell selected)"
      ]
    },
    {
      "cell_type": "code",
      "execution_count": null,
      "metadata": {
        "id": "0j7ypsB7_ER7",
        "cellView": "form"
      },
      "outputs": [],
      "source": [
        "#@title Prepare InfernoSaber and dependencies\n",
        "#@markdown Run this cell to download deepsaber to your drive (only will if it hasn't downloaded already), and prepare dependencies\n",
        "\n",
        "if len(os.listdir()) > 0:\n",
        "  print(\"Code already setup\")\n",
        "  print(\"If you encounter issues delete the <InfernoSaber> folder and rerun this cell.\")\n",
        "else:\n",
        "  print(\"Download pretrained package.\")\n",
        "  !wget -O 'InfernoSaber.zip' 'https://docs.google.com/uc?export=download&id=1kq7cDuyUs8t2WYJUl5lmyOHol9LdYrJh&confirm=t'\n",
        "  import zipfile\n",
        "  with zipfile.ZipFile('InfernoSaber.zip', 'r') as zip_ref:\n",
        "    zip_ref.extractall('')\n",
        "  os.remove('InfernoSaber.zip')\n",
        "  print(\"Finished code setup\")\n",
        "\n",
        "# install needed python modules in notebook\n",
        "print(\"Installing python dependencies...\")\n",
        "!pip install scikit-learn==1.0.2 aubio==0.4.9 pydub==0.25.1 keras-tcn==3.5.0 tensorflow==2.10 --quiet\n",
        "# tensorflow related modules are currently installed on every colab notebook\n",
        "print(\"Finished environment setup. Ready for takeoff!\")"
      ]
    },
    {
      "cell_type": "markdown",
      "metadata": {
        "id": "syG9Fn50V_Pv"
      },
      "source": [
        "## Prepare input songs"
      ]
    },
    {
      "cell_type": "code",
      "execution_count": 3,
      "metadata": {
        "cellView": "form",
        "id": "6LiXmptctZN_"
      },
      "outputs": [],
      "source": [
        "#@title Delete local songs and maps\n",
        "#@markdown You can delete the input songs and/or the output maps here by enabling the delete flags and running the cell afterwards.\n",
        "\n",
        "#@markdown Warning: Deletes in/out files permanently. Skip if not necessary.\n",
        "song_path = 'Data/prediction/songs_predict/'\n",
        "map_path = 'Data/prediction/new_map/'\n",
        "\n",
        "delete_old_songs = False #@param {type:\"boolean\"}\n",
        "if delete_old_songs:\n",
        "  for f in os.listdir(song_path):\n",
        "    if not f.startswith('Put your music files HERE.txt'):\n",
        "      os.remove(song_path + f)\n",
        "\n",
        "delete_old_maps = True #@param {type:\"boolean\"}\n",
        "if delete_old_maps:\n",
        "  for f in os.listdir(map_path):\n",
        "    if f not in [\"cover.jpg\", \"Output directory.txt\"]:\n",
        "      if os.path.isfile(map_path + f):\n",
        "        os.remove(map_path + f)\n",
        "      else:\n",
        "        import shutil\n",
        "        shutil.rmtree(map_path + f)\n"
      ]
    },
    {
      "cell_type": "code",
      "execution_count": null,
      "metadata": {
        "cellView": "form",
        "id": "mgbZk_gQEWCs"
      },
      "outputs": [],
      "source": [
        "#@title Local song upload\n",
        "#@markdown Upload a song (MP3, MP4, OGG, EGG supported) or\n",
        "\n",
        "#@markdown You can skip this step and directly copy the music into the Drive folder \n",
        "#@markdown \"/content/drive/MyDrive/InfernoSaber/Data/prediction/songs_predict/\"\n",
        "\n",
        "#@markdown You can choose multiple songs at once or rerun this cell to import multiple songs\n",
        "\n",
        "# #@markdown You can choose to delete 1.) old input songs, 2.) old output maps\n",
        "\n",
        "# # Optional: delete all files in directory\n",
        "# song_path = 'Data/prediction/songs_predict/'\n",
        "# del_flag = input(\"Delete previous input songs? (y or n)\")\n",
        "# if del_flag.lower() == 'y':\n",
        "#   for f in os.listdir(song_path):\n",
        "#     if not f.startswith('Put your music files HERE.txt'):\n",
        "#       os.remove(song_path + f)\n",
        "# del_flag = input(\"Delete previous output maps? (y or n)\")\n",
        "# if del_flag.lower() == 'y':\n",
        "#   map_path = 'Data/prediction/new_map/'\n",
        "#   for f in os.listdir(map_path):\n",
        "#     if f not in [\"cover.jpg\", \"Output directory.txt\"]:\n",
        "#       if os.path.isfile(map_path + f):\n",
        "#         os.remove(map_path + f)\n",
        "#       else:\n",
        "#         import shutil\n",
        "#         shutil.rmtree(map_path + f)\n",
        "\n",
        "# save new music file(s)\n",
        "res=files.upload()\n",
        "filename=list(res.keys())\n",
        "for song_file in filename:\n",
        "  os.rename(song_file, song_path + song_file)"
      ]
    },
    {
      "cell_type": "code",
      "execution_count": null,
      "metadata": {
        "cellView": "form",
        "id": "Myls6_IZIEwI"
      },
      "outputs": [],
      "source": [
        "#@title Youtube song download\n",
        "\n",
        "#@markdown Library by [pytube](https://github.com/rmerzouki/pytube)\n",
        "\n",
        "#@markdown You can rerun this cell to import multiple songs\n",
        "\n",
        "#@markdown If it fails just rerun again! or try the youtu.be short link\n",
        "\n",
        "#@markdown Tick button below to activate download\n",
        "\n",
        "download_from_youtube = True #@param {type:\"boolean\"}\n",
        "song_path = 'Data/prediction/songs_predict/'\n",
        "\n",
        "if download_from_youtube:\n",
        "  !pip install pytube --quiet\n",
        "  from pytube import YouTube\n",
        "  \n",
        "  link = 'https://www.youtube.com/watch?v=CN5hQOI__10&ab_channel=RickyMartinVEVO' #@param {type:\"string\"}\n",
        "\n",
        "  if (link.startswith(\"https://youtu.be/\")): # fix\n",
        "    link = link.replace(\"https://youtu.be/\", \"https://www.youtube.com/watch?v=\")\n",
        "\n",
        "  # Create a YouTube object\n",
        "  video = YouTube(link)\n",
        "  audio_streams = video.streams.filter(only_audio=True)\n",
        "  # Select the first audio stream from the list (which is usually the one with the highest audio quality)\n",
        "  audio_stream = audio_streams[0]\n",
        "  audio_stream.download(output_path=song_path)\n"
      ]
    },
    {
      "cell_type": "markdown",
      "metadata": {
        "id": "h8LFtotQyBO7"
      },
      "source": [
        "## Generate"
      ]
    },
    {
      "cell_type": "code",
      "execution_count": 5,
      "metadata": {
        "cellView": "form",
        "id": "4rvgqh_5Pvi4"
      },
      "outputs": [],
      "source": [
        "#@title Specify mapper parameters (Run this cell before generator)\n",
        "\n",
        "\n",
        "#@markdown --> Set the maximum difficulty and further model parameters.\n",
        "\n",
        "#@markdown Activate advanced cut direction model for better flow\n",
        "flow_direction_model = True #@param {type:\"boolean\"}\n",
        "if flow_direction_model:\n",
        "  os.environ['flow_model_flag'] = 'True'\n",
        "else:\n",
        "  os.environ['flow_model_flag'] = 'False'\n",
        "\n",
        "#@markdown Allow dot notes\n",
        "dot_notes = True #@param {type:\"boolean\"}\n",
        "if dot_notes:\n",
        "  os.environ['allow_no_direction_flag'] = 'True'\n",
        "else:\n",
        "  os.environ['allow_no_direction_flag'] = 'False'\n",
        "\n",
        "#@markdown Set difficulty of song in [notes per second], recommended: 2 for hard, 8 for Expert++\n",
        "\n",
        "slider_difficulty = 6 #@param {type:\"slider\", min:1, max:10, step:0.1}\n",
        "os.environ['max_speed'] = f'{slider_difficulty}'\n",
        "\n",
        "#@markdown Try to reach [notes per second] goal by x %, recommended: > 80% for all difficulties.\n",
        "slider_intensity = 95 #@param {type:\"slider\", min:50, max:100, step:5}\n",
        "os.environ['beat_intensity'] = f'{slider_intensity}'\n",
        "\n",
        "#@markdown Set quick start behaviour: 0: deactivated, recommended: 1.5 (higher values may introduce glitter in the first seconds)\n",
        "\n",
        "slider_quick_start = 2 #@param {type:\"slider\", min:0, max:2.5, step:0.1}\n",
        "os.environ['quick_start'] = f'{slider_quick_start}'\n",
        "\n",
        "#@markdown Set random behaviour: 0: deactivated, recommended: ~0.3 to get different maps for each iteration\n",
        "\n",
        "slider_random_behav = 0.3 #@param {type:\"slider\", min:0, max:0.6, step:0.05}\n",
        "os.environ['random_factor'] = f'{slider_random_behav}'\n",
        "\n",
        "#@markdown Advanced: Change (note jump) speed offset, higher values will result in faster note speed\n",
        "slider_njs_offset = 0 #@param {type:\"slider\", min:-2, max:2, step:0.5}\n",
        "os.environ['jump_speed_offset'] = f'{slider_njs_offset}'\n"
      ]
    },
    {
      "cell_type": "code",
      "execution_count": null,
      "metadata": {
        "cellView": "form",
        "id": "NOSGTbvR8Mx7"
      },
      "outputs": [],
      "source": [
        "#@title Generate level for song\n",
        "#@markdown Output will be put in the new map folder (both zip and extracted): \"/content/drive/MyDrive/InfernoSaber/Data/prediction/new_map\" \n",
        "#@markdown\n",
        "\n",
        "#@markdown Old maps will stay except for 1) same song again 2) removed in step \"Local song upload\"\n",
        "\n",
        "#@markdown Download file by right click and press download or go into the google drive to download all.\n",
        "\n",
        "# start main script\n",
        "!python \"Code/main.py\"\n",
        "\n",
        "# files.download(\"scripts/generation/generated/\"+generated_filename)"
      ]
    },
    {
      "cell_type": "markdown",
      "metadata": {
        "id": "2mSJCzmt0bXP"
      },
      "source": [
        "You can have a view on the mapped songs at \"/content/drive/MyDrive/InfernoSaber/Data/prediction/new_map\" \n",
        "\n",
        "You can upload the generated zip file to view the map online here: https://skystudioapps.com/bs-viewer/\n",
        "(thanks to +1 Rabbit)."
      ]
    }
  ],
  "metadata": {
    "accelerator": "GPU",
    "colab": {
      "provenance": []
    },
    "kernelspec": {
      "display_name": "Python 3",
      "name": "python3"
    }
  },
  "nbformat": 4,
  "nbformat_minor": 0
}
